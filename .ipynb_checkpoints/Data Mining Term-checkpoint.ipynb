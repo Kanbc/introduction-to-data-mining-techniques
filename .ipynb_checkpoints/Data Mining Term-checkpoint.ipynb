{
 "cells": [
  {
   "cell_type": "markdown",
   "metadata": {},
   "source": [
    "- Database \n",
    "- Data warehouse = รวมข้อมูลที่จะใช้ วิเคราะห์ทำ DM จากหลายๆ database \n",
    "- Data mining\n",
    "\n",
    "- BI = รายงานผลข้อมูลที่เกิดขึ้นในอดีต (report)\n",
    "- Data mining = ทำนายสิ่งที่จะเกิดขึ้นในอนาคต (predict)\n",
    "\n"
   ]
  }
 ],
 "metadata": {
  "kernelspec": {
   "display_name": "Python 3",
   "language": "python",
   "name": "python3"
  },
  "language_info": {
   "codemirror_mode": {
    "name": "ipython",
    "version": 3
   },
   "file_extension": ".py",
   "mimetype": "text/x-python",
   "name": "python",
   "nbconvert_exporter": "python",
   "pygments_lexer": "ipython3",
   "version": "3.6.3"
  }
 },
 "nbformat": 4,
 "nbformat_minor": 2
}
