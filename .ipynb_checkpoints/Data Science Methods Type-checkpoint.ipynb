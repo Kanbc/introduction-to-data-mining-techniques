{
 "cells": [
  {
   "cell_type": "markdown",
   "metadata": {},
   "source": [
    "ปกติแล้ว การวิเคราะห์ข้อมูลด้วยเทคนิค DM จะมี 3 ประเภทเท่านั้น\n",
    "\n",
    "### 1. การหาความสัมพันธ์ (association analysis)\n",
    "- หาความสัมพันธ์ของข้อมูลที่เกิดร่วมกันบ่อยๆ \n",
    "- เช่น ค้นหาสินค้าทีมีการซื้อร่วมกันบ่อยๆ\n",
    "\n",
    "### 2. การจัดกลุ่มข้อมูล (clustering)\n",
    "- แบ่งข้อมูลหลายๆกลุ่ม ตามความคล้ายคลึงกัน \n",
    "- เช่น แบ่งกลุ่มลูกค้าตามพฤติกรรมการใข้งาน\n",
    "\n",
    "### 3. การจำแนกประเภทข้อมูล (classification)\n",
    "- สร้างโมเดลจากข้อมูลที่มีอยู่เพื่อทำนายอนาคต\n",
    "- เช่น ทำนายปริมาณน้ำฝนที่ตกในวันถัดไป"
   ]
  }
 ],
 "metadata": {
  "kernelspec": {
   "display_name": "Python 3",
   "language": "python",
   "name": "python3"
  },
  "language_info": {
   "codemirror_mode": {
    "name": "ipython",
    "version": 3
   },
   "file_extension": ".py",
   "mimetype": "text/x-python",
   "name": "python",
   "nbconvert_exporter": "python",
   "pygments_lexer": "ipython3",
   "version": "3.6.3"
  }
 },
 "nbformat": 4,
 "nbformat_minor": 2
}
