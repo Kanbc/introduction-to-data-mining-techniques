{
 "cells": [
  {
   "cell_type": "markdown",
   "metadata": {},
   "source": [
    "- เริ่มจากการสังเกตุการซื้อสินค้าของลูกค้าแต่ละราย\n",
    "- วิเคราะห์ข้อมูลเพื่อดูว่า สินค้าอะไรบ้างที่ลูกค้ามักจะซื้อร่วมกันบ่อยๆ\n",
    "- ใช้ในการออกโปรเพื่อเพิ่มยอดขาย หรือแนะนำสินค้าให้ซื้อร่วมกัน"
   ]
  },
  {
   "cell_type": "markdown",
   "metadata": {},
   "source": [
    "### ข้อมูลที่ได้จากการซื้อสินค้าแต่ละครั้ง"
   ]
  },
  {
   "cell_type": "code",
   "execution_count": 1,
   "metadata": {
    "collapsed": true
   },
   "outputs": [],
   "source": [
    "# พอเกิด Transaction 1\n",
    "# data จะกลายเป็น\n",
    "# TID, Transaction time, Product\n",
    "# 1, 01-13-2014 20:04, Apple\n",
    "# 1, 01-13-2014 20:04, Cereal\n",
    "# 1, 01-13-2014 20:04, Diapers\n",
    "\n",
    "# พอเกิด Transaction 2\n",
    "# data จะกลายเป็น\n",
    "# TID, Transaction time, Product\n",
    "# 1, 01-13-2014 20:04, Apple\n",
    "# 1, 01-13-2014 20:04, Cereal\n",
    "# 1, 01-13-2014 20:04, Diapers\n",
    "# 2, 01-14-2014 11:30, Bear\n",
    "# 2, 01-14-2014 11:30, Cereal\n",
    "# 2, 01-14-2014 11:30, Eggs\n",
    "\n",
    "# พอเกิด Transaction 3\n",
    "# data จะกลายเป็น\n",
    "# TID, Transaction time, Product\n",
    "# 1, 01-13-2014 20:04, Apple\n",
    "# 1, 01-13-2014 20:04, Cereal\n",
    "# 1, 01-13-2014 20:04, Diapers\n",
    "# 2, 01-14-2014 11:30, Bear\n",
    "# 2, 01-14-2014 11:30, Cereal\n",
    "# 2, 01-14-2014 11:30, Eggs\n",
    "# 3, 01-15-2014 14:30, Apple\n",
    "# 3, 01-15-2014 14:30, Bear\n",
    "# 3, 01-15-2014 14:30, Cereal\n",
    "# 3, 01-15-2014 14:30, Eggs\n",
    "\n",
    "# พอเกิด Transaction 4\n",
    "# data จะกลายเป็น\n",
    "# TID, Transaction time, Product\n",
    "# 1, 01-13-2014 20:04, Apple\n",
    "# 1, 01-13-2014 20:04, Cereal\n",
    "# 1, 01-13-2014 20:04, Diapers\n",
    "# 2, 01-14-2014 11:30, Bear\n",
    "# 2, 01-14-2014 11:30, Cereal\n",
    "# 2, 01-14-2014 11:30, Eggs\n",
    "# 3, 01-15-2014 14:30, Apple\n",
    "# 3, 01-15-2014 14:30, Bear\n",
    "# 3, 01-15-2014 14:30, Cereal\n",
    "# 3, 01-15-2014 14:30, Eggs\n",
    "# 4, 01-16-2014 14:15, Bear\n",
    "# 4, 01-16-2014 14:15, Eggs\n",
    "\n",
    "# data_supermarket = "
   ]
  },
  {
   "cell_type": "code",
   "execution_count": 2,
   "metadata": {
    "collapsed": true
   },
   "outputs": [],
   "source": [
    "# แปลงข้อมูลจาก POS database เป็น transaction database โดย group by ตามเวลาที่ซื้อสินค้า หรือ TID\n",
    "# group data เป็น\n",
    "# id , Items\n",
    "# 1, [Apple, Cereal, Diapers]\n",
    "# 2, [Beer, Cereal, Eggs]\n",
    "# 3, [Apple, Beer, Cereal, Eggs]\n",
    "# 4, [Beer, Eggs]\n"
   ]
  },
  {
   "cell_type": "code",
   "execution_count": 3,
   "metadata": {
    "collapsed": true
   },
   "outputs": [],
   "source": [
    "# พิจารณาค่า Support"
   ]
  },
  {
   "cell_type": "code",
   "execution_count": 4,
   "metadata": {
    "collapsed": true
   },
   "outputs": [],
   "source": [
    "# พิจารณาค่า frequent itemset/infrequent itemset"
   ]
  },
  {
   "cell_type": "code",
   "execution_count": null,
   "metadata": {
    "collapsed": true
   },
   "outputs": [],
   "source": []
  }
 ],
 "metadata": {
  "kernelspec": {
   "display_name": "Python 3",
   "language": "python",
   "name": "python3"
  },
  "language_info": {
   "codemirror_mode": {
    "name": "ipython",
    "version": 3
   },
   "file_extension": ".py",
   "mimetype": "text/x-python",
   "name": "python",
   "nbconvert_exporter": "python",
   "pygments_lexer": "ipython3",
   "version": "3.6.3"
  }
 },
 "nbformat": 4,
 "nbformat_minor": 2
}
